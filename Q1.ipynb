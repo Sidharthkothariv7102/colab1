{
  "nbformat": 4,
  "nbformat_minor": 0,
  "metadata": {
    "colab": {
      "name": "Untitled3.ipynb",
      "provenance": [],
      "authorship_tag": "ABX9TyPeGyANAEW9Dh8y13R6/RNm",
      "include_colab_link": true
    },
    "kernelspec": {
      "name": "python3",
      "display_name": "Python 3"
    },
    "language_info": {
      "name": "python"
    }
  },
  "cells": [
    {
      "cell_type": "markdown",
      "metadata": {
        "id": "view-in-github",
        "colab_type": "text"
      },
      "source": [
        "<a href=\"https://colab.research.google.com/github/Sidharthkothariv7102/colab1/blob/main/Q1.ipynb\" target=\"_parent\"><img src=\"https://colab.research.google.com/assets/colab-badge.svg\" alt=\"Open In Colab\"/></a>"
      ]
    },
    {
      "cell_type": "code",
      "execution_count": 3,
      "metadata": {
        "colab": {
          "base_uri": "https://localhost:8080/"
        },
        "id": "Gcwjlmm4zbX2",
        "outputId": "cac0e0d0-1f72-41da-9044-68f1c3e6b5ef"
      },
      "outputs": [
        {
          "output_type": "stream",
          "name": "stdout",
          "text": [
            "1000\n",
            "1040\n",
            "1080\n",
            "1120\n",
            "1160\n",
            "1200\n",
            "1240\n",
            "1280\n",
            "1320\n",
            "1360\n",
            "1400\n",
            "1440\n",
            "1480\n",
            "1520\n",
            "1560\n",
            "1600\n",
            "1640\n",
            "1680\n",
            "1720\n",
            "1760\n",
            "1800\n",
            "1840\n",
            "1880\n",
            "1920\n",
            "1960\n"
          ]
        }
      ],
      "source": [
        "\n",
        "for i in range(1000,2000):\n",
        " if ((i%8==0) and (i%5==0)):\n",
        "   print(i)"
      ]
    }
  ]
}