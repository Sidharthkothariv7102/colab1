{
  "nbformat": 4,
  "nbformat_minor": 0,
  "metadata": {
    "colab": {
      "name": "Q5-7.ipynb",
      "provenance": [],
      "authorship_tag": "ABX9TyPHvVSX7oa0Lqs1rw6pSZIX",
      "include_colab_link": true
    },
    "kernelspec": {
      "name": "python3",
      "display_name": "Python 3"
    },
    "language_info": {
      "name": "python"
    }
  },
  "cells": [
    {
      "cell_type": "markdown",
      "metadata": {
        "id": "view-in-github",
        "colab_type": "text"
      },
      "source": [
        "<a href=\"https://colab.research.google.com/github/Sidharthkothariv7102/colab1/blob/main/Q5_8.ipynb\" target=\"_parent\"><img src=\"https://colab.research.google.com/assets/colab-badge.svg\" alt=\"Open In Colab\"/></a>"
      ]
    },
    {
      "cell_type": "code",
      "execution_count": 2,
      "metadata": {
        "colab": {
          "base_uri": "https://localhost:8080/"
        },
        "id": "Mtf4UJc_Cx89",
        "outputId": "3f8c8509-b995-4d6b-e1dc-ff67832f68b6"
      },
      "outputs": [
        {
          "output_type": "stream",
          "name": "stdout",
          "text": [
            "Input number of rows: 2\n",
            "Input number of columns: 2\n",
            "[[0, 0], [0, 1]]\n"
          ]
        }
      ],
      "source": [
        "row_num = int(input(\"Input number of rows: \"))\n",
        "col_num = int(input(\"Input number of columns: \"))\n",
        "multi_list = [[0 for col in range(col_num)] for row in range(row_num)]\n",
        "for row in range(row_num):\n",
        " for col in range(col_num):\n",
        "  multi_list[row][col]= row*col\n",
        "print(multi_list)"
      ]
    },
    {
      "cell_type": "code",
      "source": [
        "s = input(\"Input a string\")\n",
        "d=l=0\n",
        "for c in s:\n",
        " if c.isdigit():\n",
        "  d=d+1\n",
        " elif c.isalpha():\n",
        "  l=l+1\n",
        " else:\n",
        "  pass\n",
        "print(\"Letters\", l)\n",
        "print(\"Digits\", d)"
      ],
      "metadata": {
        "colab": {
          "base_uri": "https://localhost:8080/"
        },
        "id": "_63gh8fPC_xB",
        "outputId": "e25808c8-9731-4580-d38c-c322ae7a0bf3"
      },
      "execution_count": 4,
      "outputs": [
        {
          "output_type": "stream",
          "name": "stdout",
          "text": [
            "Input a stringhi\n",
            "Letters 2\n",
            "Digits 0\n"
          ]
        }
      ]
    },
    {
      "cell_type": "code",
      "source": [
        "import re\n",
        "password=input(\"Input your password: \")\n",
        "flag = 0\n",
        "while True:\n",
        " if (len(password)<8):\n",
        "  flag = -1\n",
        "  break\n",
        " elif not re.search(\"[a-z]\", password):\n",
        "     flag = -1\n",
        "     break\n",
        " elif not re.search(\"[A-Z]\", password):\n",
        "     flag = -1\n",
        "     break\n",
        " elif not re.search(\"[0-9]\", password):\n",
        "     flag = -1\n",
        "     break\n",
        " elif not re.search(\"[_@$]\", password):\n",
        "     flag = -1\n",
        "     break\n",
        " elif re.search(\"\\s\", password):\n",
        "     flag = -1\n",
        "     break\n",
        " else:\n",
        "     flag = 0\n",
        "     print(\"Valid Password\")\n",
        "     break\n",
        "if flag ==-1:\n",
        "  print(\"Not a Valid Password\")\n"
      ],
      "metadata": {
        "colab": {
          "base_uri": "https://localhost:8080/"
        },
        "id": "9aDh0yaVDoRF",
        "outputId": "da043dc4-81e9-4a54-fe9a-6da1a7ab84b8"
      },
      "execution_count": 9,
      "outputs": [
        {
          "output_type": "stream",
          "name": "stdout",
          "text": [
            "Input your password: lol\n",
            "Not a Valid Password\n"
          ]
        }
      ]
    },
    {
      "cell_type": "code",
      "source": [
        "array = []\n",
        "for i in range(100,401):\n",
        " s = str(i)\n",
        " if(int(s[0])%2==0)and(int(s[1])%2==0)and (int(s[2])%2==0):\n",
        "  array.append(s)\n",
        "print(\",\".join(array))  "
      ],
      "metadata": {
        "colab": {
          "base_uri": "https://localhost:8080/"
        },
        "id": "lOMcJs5pGY39",
        "outputId": "16ac633e-1b37-4ee4-a5ff-5f88db317b1f"
      },
      "execution_count": 13,
      "outputs": [
        {
          "output_type": "stream",
          "name": "stdout",
          "text": [
            "200,202,204,206,208,220,222,224,226,228,240,242,244,246,248,260,262,264,266,268,280,282,284,286,288,400\n"
          ]
        }
      ]
    }
  ]
}