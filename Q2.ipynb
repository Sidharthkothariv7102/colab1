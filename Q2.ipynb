{
  "nbformat": 4,
  "nbformat_minor": 0,
  "metadata": {
    "colab": {
      "name": "Q2.ipynb",
      "provenance": [],
      "collapsed_sections": [],
      "authorship_tag": "ABX9TyNeKAoP1aCEdy1VP7TSxnBE",
      "include_colab_link": true
    },
    "kernelspec": {
      "name": "python3",
      "display_name": "Python 3"
    },
    "language_info": {
      "name": "python"
    }
  },
  "cells": [
    {
      "cell_type": "markdown",
      "metadata": {
        "id": "view-in-github",
        "colab_type": "text"
      },
      "source": [
        "<a href=\"https://colab.research.google.com/github/Sidharthkothariv7102/colab1/blob/main/Q2.ipynb\" target=\"_parent\"><img src=\"https://colab.research.google.com/assets/colab-badge.svg\" alt=\"Open In Colab\"/></a>"
      ]
    },
    {
      "cell_type": "code",
      "execution_count": 5,
      "metadata": {
        "colab": {
          "base_uri": "https://localhost:8080/"
        },
        "id": "jHQYjl7F135R",
        "outputId": "139c34a6-482d-456e-826d-36e085bd5d1b"
      },
      "outputs": [
        {
          "output_type": "stream",
          "name": "stdout",
          "text": [
            "5\n",
            "5\n",
            "Well guessed!\n"
          ]
        }
      ],
      "source": [
        "import random \n",
        "condition = 0; \n",
        "while(condition != 1):\n",
        "      r1 = random.randint(1,9)\n",
        "      print(r1)\n",
        "      r2 = input()\n",
        "      if(int(r1)==int(r2)):\n",
        "        print('Well guessed!')\n",
        "        condition = 1\n"
      ]
    }
  ]
}